{
 "cells": [
  {
   "cell_type": "code",
   "execution_count": 4,
   "id": "30894285-4890-431d-a00e-6876fc0e3341",
   "metadata": {},
   "outputs": [
    {
     "name": "stdin",
     "output_type": "stream",
     "text": [
      "Please Enter Choice(a/b/c/d): a\n",
      "Please enter the first number: 23\n",
      "Please enter the first number: 3\n"
     ]
    },
    {
     "name": "stdout",
     "output_type": "stream",
     "text": [
      "23 + 3 = 26\n"
     ]
    }
   ],
   "source": [
    "# Q No 1\n",
    "def add(x,y):\n",
    "    return x+y\n",
    "def sub(x,y):\n",
    "    return x-y\n",
    "def mult(z,y):\n",
    "    return x*y\n",
    "def div(x,y):\n",
    "    return x/y\n",
    "\n",
    "choice=input(\"Please Enter Choice(a/b/c/d):\")\n",
    "\n",
    "num_1=int(input(\"Please enter the first number:\"))\n",
    "num_2=int(input(\"Please enter the first number:\"))\n",
    "\n",
    "if choice=='a':\n",
    "    print(num_1,\"+\",num_2,\"=\",add(num_1,num_2))\n",
    "elif choice=='b':\n",
    "    print(num_1,\"-\",num_2,\"=\",sub(num_1,num_2))\n",
    "elif choice=='c':\n",
    "    print(num_1,\"*\",num_2,\"=\",mult(num_1,num_2))\n",
    "elif choice=='d':\n",
    "    print(num_1,\"/\",num_2,\"=\",div(num_1,num_2))\n",
    "else:    \n",
    "   print(\"This is invalid\")   \n"
   ]
  },
  {
   "cell_type": "code",
   "execution_count": 8,
   "id": "d07de1f8-5151-4f9d-ad9a-77a6606616fd",
   "metadata": {},
   "outputs": [
    {
     "name": "stdout",
     "output_type": "stream",
     "text": [
      "{0: 10, 1: 20}\n",
      "{0: 10, 1: 20, 2: 30}\n"
     ]
    }
   ],
   "source": [
    "#Q No 3\n",
    "x = {0:10, 1:20}\n",
    "print(x)\n",
    "x.update({2:30})\n",
    "print(x)"
   ]
  },
  {
   "cell_type": "code",
   "execution_count": 12,
   "id": "edd616a2-5c22-4102-8e5c-69103e38a24a",
   "metadata": {},
   "outputs": [
    {
     "name": "stdout",
     "output_type": "stream",
     "text": [
      "293\n"
     ]
    }
   ],
   "source": [
    "# Q No 4\n",
    "my_dict = {'x1':100,'x2':-54,'x3':247}\n",
    "print(sum(my_dict.values()))"
   ]
  },
  {
   "cell_type": "code",
   "execution_count": 13,
   "id": "22003034-920b-4275-9a2f-71ec75db8e09",
   "metadata": {},
   "outputs": [
    {
     "name": "stdout",
     "output_type": "stream",
     "text": [
      "2 3 4 5 "
     ]
    }
   ],
   "source": [
    "# Q No 5\n",
    "list=[1,2,3,4,5,2,3,4,7,9,5]\n",
    "l1=[]\n",
    "for i in list:\n",
    "    if i not in l1:\n",
    "        l1.append(i)\n",
    "    else:\n",
    "        print(i,end=' ')"
   ]
  },
  {
   "cell_type": "code",
   "execution_count": null,
   "id": "0d0441f7-d8b5-44cf-9c48-01bec14439fc",
   "metadata": {},
   "outputs": [],
   "source": []
  }
 ],
 "metadata": {
  "kernelspec": {
   "display_name": "Python 3",
   "language": "python",
   "name": "python3"
  },
  "language_info": {
   "codemirror_mode": {
    "name": "ipython",
    "version": 3
   },
   "file_extension": ".py",
   "mimetype": "text/x-python",
   "name": "python",
   "nbconvert_exporter": "python",
   "pygments_lexer": "ipython3",
   "version": "3.7.8"
  }
 },
 "nbformat": 4,
 "nbformat_minor": 5
}
